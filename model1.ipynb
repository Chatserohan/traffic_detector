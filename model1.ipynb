{
 "cells": [
  {
   "cell_type": "code",
   "execution_count": 1,
   "metadata": {},
   "outputs": [
    {
     "name": "stderr",
     "output_type": "stream",
     "text": [
      "2024-11-11 19:59:47.152314: I tensorflow/tsl/cuda/cudart_stub.cc:28] Could not find cuda drivers on your machine, GPU will not be used.\n",
      "2024-11-11 19:59:48.701516: I tensorflow/tsl/cuda/cudart_stub.cc:28] Could not find cuda drivers on your machine, GPU will not be used.\n",
      "2024-11-11 19:59:50.916471: W tensorflow/compiler/tf2tensorrt/utils/py_utils.cc:38] TF-TRT Warning: Could not find TensorRT\n"
     ]
    }
   ],
   "source": [
    "import numpy as np \n",
    "import tensorflow as tf \n",
    "from tensorflow import keras \n",
    "from keras import Sequential \n",
    "from keras.layers import Dense, Conv2D, MaxPooling2D, Flatten"
   ]
  },
  {
   "cell_type": "code",
   "execution_count": 2,
   "metadata": {},
   "outputs": [
    {
     "name": "stdout",
     "output_type": "stream",
     "text": [
      "Found 238 files belonging to 2 classes.\n",
      "Found 61 files belonging to 2 classes.\n"
     ]
    }
   ],
   "source": [
    "\n",
    "train_ds = keras.utils.image_dataset_from_directory(\n",
    "    directory = 'data/train_ds',\n",
    "    labels = 'inferred',\n",
    "    label_mode = 'int',\n",
    "    batch_size = 32,\n",
    "    image_size = (256,256)\n",
    ")\n",
    "\n",
    "validation_ds = keras.utils.image_dataset_from_directory(\n",
    "    directory = 'data/test_ds',\n",
    "    labels = 'inferred',\n",
    "    label_mode = 'int',\n",
    "    batch_size = 32,\n",
    "    image_size = (256,256)\n",
    ")"
   ]
  },
  {
   "cell_type": "code",
   "execution_count": 3,
   "metadata": {},
   "outputs": [],
   "source": [
    "# Normilize the image\n",
    "def process(image, label):\n",
    "    image = tf.cast(image/255, tf.float32)\n",
    "    return image, label \n",
    "\n",
    "train_ds = train_ds.map(process)\n",
    "validation_ds = validation_ds.map(process)\n",
    "\n"
   ]
  },
  {
   "cell_type": "code",
   "execution_count": 4,
   "metadata": {},
   "outputs": [
    {
     "name": "stdout",
     "output_type": "stream",
     "text": [
      "Model: \"sequential_1\"\n",
      "_________________________________________________________________\n",
      " Layer (type)                Output Shape              Param #   \n",
      "=================================================================\n",
      " conv2d_1 (Conv2D)           (None, 254, 254, 32)      896       \n",
      "                                                                 \n",
      " max_pooling2d (MaxPooling2  (None, 127, 127, 32)      0         \n",
      " D)                                                              \n",
      "                                                                 \n",
      " conv2d_2 (Conv2D)           (None, 125, 125, 64)      18496     \n",
      "                                                                 \n",
      " max_pooling2d_1 (MaxPoolin  (None, 62, 62, 64)        0         \n",
      " g2D)                                                            \n",
      "                                                                 \n"
     ]
    },
    {
     "name": "stderr",
     "output_type": "stream",
     "text": [
      "2024-11-11 19:59:56.267035: W tensorflow/tsl/framework/cpu_allocator_impl.cc:83] Allocation of 58982400 exceeds 10% of free system memory.\n",
      "2024-11-11 19:59:56.330827: W tensorflow/tsl/framework/cpu_allocator_impl.cc:83] Allocation of 58982400 exceeds 10% of free system memory.\n",
      "2024-11-11 19:59:56.367973: W tensorflow/tsl/framework/cpu_allocator_impl.cc:83] Allocation of 58982400 exceeds 10% of free system memory.\n"
     ]
    },
    {
     "name": "stdout",
     "output_type": "stream",
     "text": [
      " conv2d_3 (Conv2D)           (None, 60, 60, 128)       73856     \n",
      "                                                                 \n",
      " max_pooling2d_2 (MaxPoolin  (None, 30, 30, 128)       0         \n",
      " g2D)                                                            \n",
      "                                                                 \n",
      " flatten (Flatten)           (None, 115200)            0         \n",
      "                                                                 \n",
      " dense (Dense)               (None, 128)               14745728  \n",
      "                                                                 \n",
      " dense_1 (Dense)             (None, 64)                8256      \n",
      "                                                                 \n",
      " dense_2 (Dense)             (None, 1)                 65        \n",
      "                                                                 \n",
      "=================================================================\n",
      "Total params: 14847297 (56.64 MB)\n",
      "Trainable params: 14847297 (56.64 MB)\n",
      "Non-trainable params: 0 (0.00 Byte)\n",
      "_________________________________________________________________\n"
     ]
    }
   ],
   "source": [
    "model = Sequential()\n",
    "model.add(Conv2D(32, kernel_size = (3,3), padding = 'valid', activation = 'relu', input_shape = (256,256,3)))\n",
    "\n",
    "model = Sequential()\n",
    "\n",
    "model.add(Conv2D(32, kernel_size = (3,3), padding = 'valid', activation = 'relu', input_shape = (256,256,3)))\n",
    "model.add(MaxPooling2D(pool_size = (2,2), strides = 2, padding = 'valid'))\n",
    "\n",
    "model.add(Conv2D(64, kernel_size = (3,3), padding = 'valid', activation = 'relu'))\n",
    "model.add(MaxPooling2D(pool_size = (2,2), strides = 2, padding = 'valid'))\n",
    "\n",
    "model.add(Conv2D(128, kernel_size = (3,3), padding = 'valid', activation = 'relu'))\n",
    "model.add(MaxPooling2D(pool_size = (2,2), strides = 2, padding = 'valid'))\n",
    "\n",
    "model.add(Flatten())\n",
    "model.add(Dense(128,activation = 'relu'))\n",
    "model.add(Dense(64, activation = 'relu'))\n",
    "model.add(Dense(1, activation = 'sigmoid'))\n",
    "\n",
    "model.summary()"
   ]
  },
  {
   "cell_type": "code",
   "execution_count": 5,
   "metadata": {},
   "outputs": [],
   "source": [
    "model.compile(optimizer='adam', loss='binary_crossentropy',metrics = ['accuracy'])"
   ]
  },
  {
   "cell_type": "code",
   "execution_count": 6,
   "metadata": {},
   "outputs": [
    {
     "name": "stdout",
     "output_type": "stream",
     "text": [
      "Epoch 1/15\n"
     ]
    },
    {
     "name": "stderr",
     "output_type": "stream",
     "text": [
      "2024-11-11 19:59:56.983430: W tensorflow/tsl/framework/cpu_allocator_impl.cc:83] Allocation of 58982400 exceeds 10% of free system memory.\n",
      "2024-11-11 19:59:57.010105: W tensorflow/tsl/framework/cpu_allocator_impl.cc:83] Allocation of 58982400 exceeds 10% of free system memory.\n"
     ]
    },
    {
     "name": "stdout",
     "output_type": "stream",
     "text": [
      "8/8 [==============================] - 39s 4s/step - loss: 1.3799 - accuracy: 0.5168 - val_loss: 0.7923 - val_accuracy: 0.5410\n",
      "Epoch 2/15\n",
      "8/8 [==============================] - 38s 4s/step - loss: 0.7078 - accuracy: 0.5378 - val_loss: 0.6630 - val_accuracy: 0.5410\n",
      "Epoch 3/15\n",
      "8/8 [==============================] - 38s 5s/step - loss: 0.6096 - accuracy: 0.6975 - val_loss: 0.6557 - val_accuracy: 0.5738\n",
      "Epoch 4/15\n",
      "8/8 [==============================] - 40s 5s/step - loss: 0.5695 - accuracy: 0.6681 - val_loss: 0.6944 - val_accuracy: 0.5574\n",
      "Epoch 5/15\n",
      "8/8 [==============================] - 33s 4s/step - loss: 0.5340 - accuracy: 0.7185 - val_loss: 0.5044 - val_accuracy: 0.7541\n",
      "Epoch 6/15\n",
      "8/8 [==============================] - 28s 3s/step - loss: 0.3166 - accuracy: 0.8992 - val_loss: 0.4947 - val_accuracy: 0.7869\n",
      "Epoch 7/15\n",
      "8/8 [==============================] - 28s 3s/step - loss: 0.2602 - accuracy: 0.8655 - val_loss: 0.4674 - val_accuracy: 0.7541\n",
      "Epoch 8/15\n",
      "8/8 [==============================] - 27s 3s/step - loss: 0.1644 - accuracy: 0.9454 - val_loss: 0.5799 - val_accuracy: 0.6885\n",
      "Epoch 9/15\n",
      "8/8 [==============================] - 26s 3s/step - loss: 0.1031 - accuracy: 0.9790 - val_loss: 0.6728 - val_accuracy: 0.7049\n",
      "Epoch 10/15\n",
      "8/8 [==============================] - 29s 3s/step - loss: 0.0562 - accuracy: 0.9916 - val_loss: 0.7063 - val_accuracy: 0.7377\n",
      "Epoch 11/15\n",
      "8/8 [==============================] - 26s 3s/step - loss: 0.0154 - accuracy: 1.0000 - val_loss: 0.7817 - val_accuracy: 0.7049\n",
      "Epoch 12/15\n",
      "8/8 [==============================] - 29s 3s/step - loss: 0.0067 - accuracy: 1.0000 - val_loss: 0.7515 - val_accuracy: 0.7377\n",
      "Epoch 13/15\n",
      "8/8 [==============================] - 29s 3s/step - loss: 0.0160 - accuracy: 0.9958 - val_loss: 1.0305 - val_accuracy: 0.7541\n",
      "Epoch 14/15\n",
      "8/8 [==============================] - 29s 4s/step - loss: 0.0090 - accuracy: 1.0000 - val_loss: 0.7351 - val_accuracy: 0.7541\n",
      "Epoch 15/15\n",
      "8/8 [==============================] - 28s 3s/step - loss: 0.0084 - accuracy: 1.0000 - val_loss: 0.6792 - val_accuracy: 0.8033\n"
     ]
    }
   ],
   "source": [
    "history = model.fit(train_ds, epochs=15, validation_data= validation_ds)\n"
   ]
  },
  {
   "cell_type": "code",
   "execution_count": 7,
   "metadata": {},
   "outputs": [],
   "source": [
    "# 0 - No traffic \n",
    "# 1 - traffic "
   ]
  },
  {
   "cell_type": "code",
   "execution_count": 13,
   "metadata": {},
   "outputs": [],
   "source": [
    "model.save('traffic_dector_main.h5')"
   ]
  },
  {
   "cell_type": "code",
   "execution_count": 19,
   "metadata": {},
   "outputs": [
    {
     "name": "stdout",
     "output_type": "stream",
     "text": [
      "1/1 [==============================] - 0s 73ms/step\n"
     ]
    },
    {
     "data": {
      "text/plain": [
       "array([[1.]], dtype=float32)"
      ]
     },
     "execution_count": 19,
     "metadata": {},
     "output_type": "execute_result"
    }
   ],
   "source": [
    "# 1.Normal\n",
    "# 0.AD\n",
    "import cv2 \n",
    "testimg = cv2.imread('traffictest.jpeg')\n",
    "# plt.imshow(testimg)\n",
    "testimg = cv2.resize(testimg,(256,256))\n",
    "testinput = testimg.reshape((1,256,256,3))\n",
    "model.predict(testinput)"
   ]
  },
  {
   "cell_type": "code",
   "execution_count": 20,
   "metadata": {},
   "outputs": [
    {
     "name": "stdout",
     "output_type": "stream",
     "text": [
      "1/1 [==============================] - 0s 60ms/step\n"
     ]
    },
    {
     "data": {
      "text/plain": [
       "array([[0.]], dtype=float32)"
      ]
     },
     "execution_count": 20,
     "metadata": {},
     "output_type": "execute_result"
    }
   ],
   "source": [
    "# 1.Normal\n",
    "# 0.AD\n",
    "import cv2 \n",
    "testimg = cv2.imread('clearroads.jpeg')\n",
    "# plt.imshow(testimg)\n",
    "testimg = cv2.resize(testimg,(256,256))\n",
    "testinput = testimg.reshape((1,256,256,3))\n",
    "model.predict(testinput)"
   ]
  },
  {
   "cell_type": "code",
   "execution_count": 17,
   "metadata": {},
   "outputs": [
    {
     "name": "stdout",
     "output_type": "stream",
     "text": [
      "1/1 [==============================] - 0s 52ms/step\n"
     ]
    },
    {
     "data": {
      "text/plain": [
       "array([[0.]], dtype=float32)"
      ]
     },
     "execution_count": 17,
     "metadata": {},
     "output_type": "execute_result"
    }
   ],
   "source": [
    "# 1.Normal\n",
    "# 0.AD\n",
    "import cv2 \n",
    "testimg = cv2.imread('cr2.jpeg')\n",
    "# plt.imshow(testimg)\n",
    "testimg = cv2.resize(testimg,(256,256))\n",
    "testinput = testimg.reshape((1,256,256,3))\n",
    "model.predict(testinput)"
   ]
  },
  {
   "cell_type": "code",
   "execution_count": 18,
   "metadata": {},
   "outputs": [
    {
     "name": "stdout",
     "output_type": "stream",
     "text": [
      "1/1 [==============================] - 0s 71ms/step\n"
     ]
    },
    {
     "data": {
      "text/plain": [
       "array([[0.]], dtype=float32)"
      ]
     },
     "execution_count": 18,
     "metadata": {},
     "output_type": "execute_result"
    }
   ],
   "source": [
    "# 1.Normal\n",
    "# 0.AD\n",
    "import cv2 \n",
    "testimg = cv2.imread('notraffic1.jpeg')\n",
    "# plt.imshow(testimg)\n",
    "testimg = cv2.resize(testimg,(256,256))\n",
    "testinput = testimg.reshape((1,256,256,3))\n",
    "model.predict(testinput)"
   ]
  },
  {
   "cell_type": "code",
   "execution_count": 24,
   "metadata": {},
   "outputs": [
    {
     "name": "stdout",
     "output_type": "stream",
     "text": [
      "1/1 [==============================] - 0s 52ms/step\n"
     ]
    },
    {
     "data": {
      "text/plain": [
       "array([[1.]], dtype=float32)"
      ]
     },
     "execution_count": 24,
     "metadata": {},
     "output_type": "execute_result"
    }
   ],
   "source": [
    "# 1.Normal\n",
    "# 0.AD\n",
    "import cv2 \n",
    "testimg = cv2.imread('testimg1.jpeg')\n",
    "# plt.imshow(testimg)\n",
    "testimg = cv2.resize(testimg,(256,256))\n",
    "testinput = testimg.reshape((1,256,256,3))\n",
    "model.predict(testinput)"
   ]
  },
  {
   "cell_type": "code",
   "execution_count": 23,
   "metadata": {},
   "outputs": [
    {
     "name": "stdout",
     "output_type": "stream",
     "text": [
      "1/1 [==============================] - 0s 130ms/step\n"
     ]
    },
    {
     "data": {
      "text/plain": [
       "array([[0.]], dtype=float32)"
      ]
     },
     "execution_count": 23,
     "metadata": {},
     "output_type": "execute_result"
    }
   ],
   "source": [
    "# 1.Normal\n",
    "# 0.AD\n",
    "import cv2 \n",
    "testimg = cv2.imread('notraffic1.jpeg')\n",
    "# plt.imshow(testimg)\n",
    "testimg = cv2.resize(testimg,(256,256))\n",
    "testinput = testimg.reshape((1,256,256,3))\n",
    "model.predict(testinput)"
   ]
  },
  {
   "cell_type": "code",
   "execution_count": null,
   "metadata": {},
   "outputs": [],
   "source": []
  }
 ],
 "metadata": {
  "kernelspec": {
   "display_name": "Python 3",
   "language": "python",
   "name": "python3"
  },
  "language_info": {
   "codemirror_mode": {
    "name": "ipython",
    "version": 3
   },
   "file_extension": ".py",
   "mimetype": "text/x-python",
   "name": "python",
   "nbconvert_exporter": "python",
   "pygments_lexer": "ipython3",
   "version": "3.8.10"
  }
 },
 "nbformat": 4,
 "nbformat_minor": 2
}
